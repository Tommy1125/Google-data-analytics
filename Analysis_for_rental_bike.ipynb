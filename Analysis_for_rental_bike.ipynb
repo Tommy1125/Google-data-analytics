{
 "cells": [
  {
   "cell_type": "markdown",
   "id": "ebdf4db5-519e-4ecd-8bf9-5e758aa968c4",
   "metadata": {
    "tags": []
   },
   "source": [
    "## Workflow stages\n",
    "\n",
    "The workflow goes through five stages.\n",
    "\n",
    "1. Question and problem definition.\n",
    "2. Acquire training data.\n",
    "3. Wrangle, prepare, cleanse the data.\n",
    "4. Analyze, identify patterns, and explore the data.\n",
    "5. Visualize, report, and present the problem solving steps and final solution.\n"
   ]
  },
  {
   "cell_type": "markdown",
   "id": "be6a81dd-9d0b-4bb4-b62d-0bdd83371f72",
   "metadata": {},
   "source": [
    "<h3>1. Question and problem definition:</h3>\n",
    "For the ask step, first let's get some context from the cyclistic document:\n",
    "\n",
    "Scenario\n",
    "\n",
    "You are a junior data analyst working in the marketing analyst team at Cyclistic, a bike-share company in Chicago. The director of marketing believes the company’s future success depends on maximizing the number of annual memberships. Therefore, your team wants to understand how casual riders and annual members use Cyclistic bikes dierently. From these insights, your team will design a new marketing strategy to convert casual riders into annual members. But first, Cyclistic executives must approve your recommendations, so they must be backed up with compelling data insights and professional data visualizations.\n",
    "\n",
    "Characters and teams\n",
    "Cyclistic: A bike-share program that features more than 5,800 bicycles and 600 docking stations. Cyclistic sets itself apart by also oering reclining bikes, hand tricycles, and cargo bikes, making bike-share more inclusive to people with disabilities and riders who can’t use a standard two-wheeled bike. The majority of riders opt for traditional bikes; about 8% of riders use the assistive options. Cyclistic users are more likely to ride for leisure, but about 30% use them to commute to work each day.\n",
    "Lily Moreno: The director of marketing and your manager. Moreno is responsible for the development of campaigns and initiatives to promote the bike-share program. These may include email, social media, and other channels.\n",
    "Cyclistic marketing analytics team: A team of data analysts who are responsible for collecting, analyzing, and reporting data that helps guide Cyclistic marketing strategy. You joined this team six months ago and have been busy learning about Cyclistic’s mission and business goals — as well as how you, as a junior data analyst, can help Cyclistic achieve them.\n",
    "Cyclistic executive team: The notoriously detail-oriented executive team will decide whether to approve the recommended marketing program."
   ]
  },
  {
   "cell_type": "markdown",
   "id": "85ec1a1e-e770-4604-af58-1da7d79f121e",
   "metadata": {
    "jp-MarkdownHeadingCollapsed": true,
    "tags": []
   },
   "source": [
    "Guiding questions\n",
    "1. How do annual members and casual riders use Cyclistic bikes differently?\n",
    "\n",
    "2. Why would casual riders buy Cyclistic annual memberships?\n",
    "\n",
    "3. How can Cyclistic use digital media to influence casual riders to become members?"
   ]
  },
  {
   "cell_type": "markdown",
   "id": "abec791d-fc44-421e-9712-33e2231a9a98",
   "metadata": {
    "tags": []
   },
   "source": [
    "<h3>2.Acquire training data.  :</h3>\n",
    "Extract from 2022-Apr to2023-Mar data.\n"
   ]
  },
  {
   "cell_type": "code",
   "execution_count": 131,
   "id": "68b0a569-6b5f-41a1-b183-99cd3ea5dca7",
   "metadata": {},
   "outputs": [],
   "source": [
    "import pandas as pd\n",
    "import numpy as np\n",
    "import matplotlib.pyplot as plt\n",
    "import seaborn as sns\n",
    "from glob import glob\n",
    "import warnings\n",
    "warnings.filterwarnings('ignore')"
   ]
  },
  {
   "cell_type": "code",
   "execution_count": 132,
   "id": "d8874f3c-3477-4e51-ae3a-371314b2911e",
   "metadata": {},
   "outputs": [],
   "source": [
    "filepaths = glob('*.csv')\n",
    "filepath = filepaths[0]"
   ]
  },
  {
   "cell_type": "markdown",
   "id": "75e57fcc-0a22-4ce2-933b-c3076e9a780d",
   "metadata": {},
   "source": [
    "<h3>3. Wrangle, prepare, cleanse the data.</h3>\n",
    "Make new columns: weekday, Year-Month. \n",
    "\n",
    "Then change categorical colomns to numerical one: \"member_cusual\", \"rideable_type\"\n",
    "\n",
    "Concat the table to eaxch 12 months tables to one table."
   ]
  },
  {
   "cell_type": "code",
   "execution_count": 135,
   "id": "46b764e1-5b31-4af3-9417-d45715efcf0c",
   "metadata": {},
   "outputs": [],
   "source": [
    "def extract(filepath):\n",
    "    _df = pd.read_csv(filepath)\n",
    "    df = _df.dropna()\n",
    "    df['started_at'] = pd.to_datetime(df['started_at'])\n",
    "    df['ended_at'] = pd.to_datetime(df['ended_at'])\n",
    "\n",
    "    df['Period'] = (df['ended_at']-df['started_at']).dt.total_seconds()\n",
    "    df['Period'] = df['Period']/3600\n",
    "    df['weekday'] = df['started_at'].dt.weekday\n",
    "    df['Diff_lat'] = df['end_lat']-df['start_lat']\n",
    "    df['Diff_lng'] = df['end_lng']-df['start_lng']\n",
    "    df['member_casual'] = df['member_casual'].replace('member', 0)\n",
    "    df['member_casual'] = df['member_casual'].replace('casual', 1)\n",
    "    df['rideable_type'] = df['rideable_type'].replace('electric_bike', 0)\n",
    "    df['rideable_type'] = df['rideable_type'].replace('classic_bike', 1)\n",
    "    df['rideable_type'] = df['rideable_type'].replace('docked_bike', 2)\n",
    "    df['Year-Month'] = df['started_at'].dt.strftime('%Y-%m')\n",
    "    df['Year-Month'] = df['started_at'].dt.strftime('%Y-%m')\n",
    "    df['Hour'] = df['started_at'].dt.hour\n",
    "    df=df.iloc[0:,[1,12,13,14,17,18]]\n",
    "    return df"
   ]
  },
  {
   "cell_type": "code",
   "execution_count": 136,
   "id": "71f9bf0a-512a-41d9-991f-ea874bf8a4a7",
   "metadata": {},
   "outputs": [],
   "source": [
    "df = extract(filepath)"
   ]
  },
  {
   "cell_type": "code",
   "execution_count": 137,
   "id": "46b6e510-3cb5-45c2-9551-fd974c64f052",
   "metadata": {},
   "outputs": [],
   "source": [
    "df = pd.DataFrame()\n",
    "\n",
    "for filepath in filepaths:\n",
    "    _df = extract(filepath)\n",
    "    df = pd.concat([df,_df])"
   ]
  },
  {
   "cell_type": "code",
   "execution_count": 138,
   "id": "ad6ab071-08c8-42ff-9146-f2c9b2df9e4d",
   "metadata": {},
   "outputs": [],
   "source": [
    "df = df.sort_values('Year-Month')"
   ]
  },
  {
   "cell_type": "code",
   "execution_count": null,
   "id": "3d53a3f5-34ed-4b05-b13d-48bfba0c197c",
   "metadata": {},
   "outputs": [],
   "source": [
    "df['weekend'] = df['weekday'].apply(lambda x: 1 if x >= 5 else 0)"
   ]
  },
  {
   "cell_type": "markdown",
   "id": "ebd25a34-01f0-4685-8596-e5981bfcd9de",
   "metadata": {},
   "source": [
    "<h3>4. Analyze, identify patterns, and explore the data."
   ]
  },
  {
   "cell_type": "markdown",
   "id": "5c35a8d1-8881-40a9-a7fe-b59758231e0e",
   "metadata": {},
   "source": [
    "Only member type 2 using."
   ]
  },
  {
   "cell_type": "code",
   "execution_count": 139,
   "id": "5bf28bc5-372e-4f18-b728-56d65af3f904",
   "metadata": {},
   "outputs": [
    {
     "data": {
      "text/html": [
       "<div>\n",
       "<style scoped>\n",
       "    .dataframe tbody tr th:only-of-type {\n",
       "        vertical-align: middle;\n",
       "    }\n",
       "\n",
       "    .dataframe tbody tr th {\n",
       "        vertical-align: top;\n",
       "    }\n",
       "\n",
       "    .dataframe thead th {\n",
       "        text-align: right;\n",
       "    }\n",
       "</style>\n",
       "<table border=\"1\" class=\"dataframe\">\n",
       "  <thead>\n",
       "    <tr style=\"text-align: right;\">\n",
       "      <th></th>\n",
       "      <th>rideable_type</th>\n",
       "      <th>member_casual</th>\n",
       "    </tr>\n",
       "  </thead>\n",
       "  <tbody>\n",
       "    <tr>\n",
       "      <th>2</th>\n",
       "      <td>2</td>\n",
       "      <td>1.000000</td>\n",
       "    </tr>\n",
       "    <tr>\n",
       "      <th>0</th>\n",
       "      <td>0</td>\n",
       "      <td>0.426291</td>\n",
       "    </tr>\n",
       "    <tr>\n",
       "      <th>1</th>\n",
       "      <td>1</td>\n",
       "      <td>0.336577</td>\n",
       "    </tr>\n",
       "  </tbody>\n",
       "</table>\n",
       "</div>"
      ],
      "text/plain": [
       "   rideable_type  member_casual\n",
       "2              2       1.000000\n",
       "0              0       0.426291\n",
       "1              1       0.336577"
      ]
     },
     "execution_count": 139,
     "metadata": {},
     "output_type": "execute_result"
    }
   ],
   "source": [
    "df[[\"rideable_type\", \"member_casual\"]].groupby(['rideable_type'], as_index=False).mean().sort_values(by='member_casual', ascending=False)"
   ]
  },
  {
   "cell_type": "code",
   "execution_count": 140,
   "id": "83c6d963-7eb2-49ef-909e-ecf34ee82c91",
   "metadata": {},
   "outputs": [
    {
     "data": {
      "text/html": [
       "<div>\n",
       "<style scoped>\n",
       "    .dataframe tbody tr th:only-of-type {\n",
       "        vertical-align: middle;\n",
       "    }\n",
       "\n",
       "    .dataframe tbody tr th {\n",
       "        vertical-align: top;\n",
       "    }\n",
       "\n",
       "    .dataframe thead th {\n",
       "        text-align: right;\n",
       "    }\n",
       "</style>\n",
       "<table border=\"1\" class=\"dataframe\">\n",
       "  <thead>\n",
       "    <tr style=\"text-align: right;\">\n",
       "      <th></th>\n",
       "      <th>weekday</th>\n",
       "      <th>member_casual</th>\n",
       "    </tr>\n",
       "  </thead>\n",
       "  <tbody>\n",
       "    <tr>\n",
       "      <th>5</th>\n",
       "      <td>5</td>\n",
       "      <td>0.514604</td>\n",
       "    </tr>\n",
       "    <tr>\n",
       "      <th>6</th>\n",
       "      <td>6</td>\n",
       "      <td>0.496068</td>\n",
       "    </tr>\n",
       "    <tr>\n",
       "      <th>4</th>\n",
       "      <td>4</td>\n",
       "      <td>0.401695</td>\n",
       "    </tr>\n",
       "    <tr>\n",
       "      <th>0</th>\n",
       "      <td>0</td>\n",
       "      <td>0.352518</td>\n",
       "    </tr>\n",
       "    <tr>\n",
       "      <th>3</th>\n",
       "      <td>3</td>\n",
       "      <td>0.350278</td>\n",
       "    </tr>\n",
       "    <tr>\n",
       "      <th>2</th>\n",
       "      <td>2</td>\n",
       "      <td>0.323293</td>\n",
       "    </tr>\n",
       "    <tr>\n",
       "      <th>1</th>\n",
       "      <td>1</td>\n",
       "      <td>0.319141</td>\n",
       "    </tr>\n",
       "  </tbody>\n",
       "</table>\n",
       "</div>"
      ],
      "text/plain": [
       "   weekday  member_casual\n",
       "5        5       0.514604\n",
       "6        6       0.496068\n",
       "4        4       0.401695\n",
       "0        0       0.352518\n",
       "3        3       0.350278\n",
       "2        2       0.323293\n",
       "1        1       0.319141"
      ]
     },
     "execution_count": 140,
     "metadata": {},
     "output_type": "execute_result"
    }
   ],
   "source": [
    "df[[\"weekday\", \"member_casual\"]].groupby(['weekday'], as_index=False).mean().sort_values(by='member_casual', ascending=False)"
   ]
  },
  {
   "cell_type": "code",
   "execution_count": 141,
   "id": "91234c63-e48b-4863-8b37-7a73da7f1698",
   "metadata": {},
   "outputs": [
    {
     "data": {
      "text/html": [
       "<div>\n",
       "<style scoped>\n",
       "    .dataframe tbody tr th:only-of-type {\n",
       "        vertical-align: middle;\n",
       "    }\n",
       "\n",
       "    .dataframe tbody tr th {\n",
       "        vertical-align: top;\n",
       "    }\n",
       "\n",
       "    .dataframe thead th {\n",
       "        text-align: right;\n",
       "    }\n",
       "</style>\n",
       "<table border=\"1\" class=\"dataframe\">\n",
       "  <thead>\n",
       "    <tr style=\"text-align: right;\">\n",
       "      <th></th>\n",
       "      <th>member_casual</th>\n",
       "      <th>Period</th>\n",
       "    </tr>\n",
       "  </thead>\n",
       "  <tbody>\n",
       "    <tr>\n",
       "      <th>1</th>\n",
       "      <td>1</td>\n",
       "      <td>0.388858</td>\n",
       "    </tr>\n",
       "    <tr>\n",
       "      <th>0</th>\n",
       "      <td>0</td>\n",
       "      <td>0.204451</td>\n",
       "    </tr>\n",
       "  </tbody>\n",
       "</table>\n",
       "</div>"
      ],
      "text/plain": [
       "   member_casual    Period\n",
       "1              1  0.388858\n",
       "0              0  0.204451"
      ]
     },
     "execution_count": 141,
     "metadata": {},
     "output_type": "execute_result"
    }
   ],
   "source": [
    "df[[\"member_casual\", \"Period\"]].groupby(['member_casual'], as_index=False).mean().sort_values(by='Period', ascending=False)"
   ]
  },
  {
   "cell_type": "markdown",
   "id": "6dd00686-58bb-4f08-a0a4-b80d7e735f2d",
   "metadata": {},
   "source": [
    "Numerical"
   ]
  },
  {
   "cell_type": "code",
   "execution_count": 142,
   "id": "90997a3d-e907-4d00-aa46-4707dcfa3d89",
   "metadata": {},
   "outputs": [
    {
     "data": {
      "text/plain": [
       "Index(['rideable_type', 'member_casual', 'Period', 'weekday', 'Year-Month',\n",
       "       'Hour'],\n",
       "      dtype='object')"
      ]
     },
     "execution_count": 142,
     "metadata": {},
     "output_type": "execute_result"
    }
   ],
   "source": [
    "df.columns"
   ]
  },
  {
   "cell_type": "code",
   "execution_count": 243,
   "id": "bb22db77-79bf-4636-9709-c742c5eec522",
   "metadata": {},
   "outputs": [
    {
     "data": {
      "text/plain": [
       "<AxesSubplot:xlabel='member_casual', ylabel='count'>"
      ]
     },
     "execution_count": 243,
     "metadata": {},
     "output_type": "execute_result"
    },
    {
     "data": {
      "image/png": "[encoded data removed]",
      "text/plain": [
       "<Figure size 432x288 with 1 Axes>"
      ]
     },
     "metadata": {
      "needs_background": "light"
     },
     "output_type": "display_data"
    }
   ],
   "source": [
    "sns.countplot('member_casual',data=df)\n"
   ]
  },
  {
   "cell_type": "code",
   "execution_count": 235,
   "id": "fe0fe1d9-a636-4645-870f-c776a9bdc5f1",
   "metadata": {},
   "outputs": [
    {
     "data": {
      "text/plain": [
       "<seaborn.axisgrid.FacetGrid at 0x7f95ca2b5550>"
      ]
     },
     "execution_count": 235,
     "metadata": {},
     "output_type": "execute_result"
    },
    {
     "data": {
      "image/png": "[encoded data removed]",
      "text/plain": [
       "<Figure size 432x288 with 1 Axes>"
      ]
     },
     "metadata": {
      "needs_background": "light"
     },
     "output_type": "display_data"
    }
   ],
   "source": [
    "sns.barplot(x = \"member_casual\",y = \"Period\",data = df)\n",
    "grid.fig.suptitle('How many hours/time used rental servious ')\n",
    "grid.set_axis_labels('Member or casual ', 'Hours')\n",
    "grid.add_legend()"
   ]
  },
  {
   "cell_type": "markdown",
   "id": "a315dd7c-cd67-443c-ba6e-612d59b53229",
   "metadata": {},
   "source": [
    "Member:0,Casual:1\n",
    "\n",
    "Member is majority one. But one time usage is less than casual."
   ]
  },
  {
   "cell_type": "code",
   "execution_count": 236,
   "id": "42dc5aa1-ca38-4afc-bc61-f809744e2b05",
   "metadata": {
    "tags": []
   },
   "outputs": [
    {
     "data": {
      "text/plain": [
       "<seaborn.axisgrid.FacetGrid at 0x7f95b9a34b20>"
      ]
     },
     "execution_count": 236,
     "metadata": {},
     "output_type": "execute_result"
    },
    {
     "data": {
      "image/png": "[encoded data removed]",
      "text/plain": [
       "<Figure size 800x316.8 with 2 Axes>"
      ]
     },
     "metadata": {
      "needs_background": "light"
     },
     "output_type": "display_data"
    }
   ],
   "source": [
    "grid = sns.FacetGrid(df, row=\"member_casual\", height=2.2, aspect=5)\n",
    "grid.map(sns.countplot, 'Year-Month')\n",
    "grid.fig.suptitle('How many times used rental servious')\n",
    "grid.set_axis_labels('Date', 'Times')\n",
    "grid.add_legend()"
   ]
  },
  {
   "cell_type": "markdown",
   "id": "f6140575-0d35-4b47-9ce9-284b2df4e771",
   "metadata": {},
   "source": [
    "For bothside, they use more this service at summer season.\n",
    "\n",
    "Maybe due to cold season."
   ]
  },
  {
   "cell_type": "code",
   "execution_count": 249,
   "id": "8f727a33-01d2-4c0f-889e-f931ac0eef6c",
   "metadata": {},
   "outputs": [
    {
     "data": {
      "text/plain": [
       "<seaborn.axisgrid.FacetGrid at 0x7f95aac2c970>"
      ]
     },
     "execution_count": 249,
     "metadata": {},
     "output_type": "execute_result"
    },
    {
     "data": {
      "image/png": "[encoded data removed]",
      "text/plain": [
       "<Figure size 800x316.8 with 2 Axes>"
      ]
     },
     "metadata": {
      "needs_background": "light"
     },
     "output_type": "display_data"
    }
   ],
   "source": [
    "grid = sns.FacetGrid(df, row=\"member_casual\", height=2.2, aspect=5)\n",
    "grid.map(sns.barplot, 'Year-Month',\"Period\")\n",
    "grid.fig.suptitle('How many times used rental servious by weekday')\n",
    "grid.set_axis_labels('Date', 'Hours')\n",
    "grid.add_legend()"
   ]
  },
  {
   "cell_type": "markdown",
   "id": "c6b323d1-daf7-4618-bbe2-87a7bc525bfc",
   "metadata": {},
   "source": [
    "Member is tend to use constance distance: maybe they are using for comution.\n",
    "\n",
    "Casual is using more distance than member specially summer."
   ]
  },
  {
   "cell_type": "markdown",
   "id": "7888b885-f097-45c8-af3c-4639317526b9",
   "metadata": {},
   "source": [
    "To see if the mwmbwer is using for compution??"
   ]
  },
  {
   "cell_type": "code",
   "execution_count": 248,
   "id": "4b0a17c2-4386-4631-88c6-b3d52610a08f",
   "metadata": {},
   "outputs": [
    {
     "data": {
      "text/plain": [
       "<seaborn.axisgrid.FacetGrid at 0x7f95aac2caf0>"
      ]
     },
     "execution_count": 248,
     "metadata": {},
     "output_type": "execute_result"
    },
    {
     "data": {
      "image/png": "[encoded data removed]",
      "text/plain": [
       "<Figure size 800x316.8 with 2 Axes>"
      ]
     },
     "metadata": {
      "needs_background": "light"
     },
     "output_type": "display_data"
    }
   ],
   "source": [
    "grid = sns.FacetGrid(df, row=\"member_casual\", height=2.2, aspect=5)\n",
    "grid.map(sns.countplot, 'weekday')\n",
    "grid.fig.subplots_adjust(top=0.9)\n",
    "grid.fig.suptitle('How many times used rental servious by weekday')\n",
    "grid.set_axis_labels('Weekday', 'Times')\n",
    "grid.add_legend()"
   ]
  },
  {
   "cell_type": "code",
   "execution_count": 247,
   "id": "73eabfe1-64dc-4d2f-bc17-6f091e16ea8e",
   "metadata": {},
   "outputs": [
    {
     "data": {
      "text/plain": [
       "<seaborn.axisgrid.FacetGrid at 0x7f95bfc79bb0>"
      ]
     },
     "execution_count": 247,
     "metadata": {},
     "output_type": "execute_result"
    },
    {
     "data": {
      "image/png": "[encoded data removed]",
      "text/plain": [
       "<Figure size 834.375x158.4 with 1 Axes>"
      ]
     },
     "metadata": {
      "needs_background": "light"
     },
     "output_type": "display_data"
    }
   ],
   "source": [
    "grid = sns.FacetGrid(df, height=2.2, aspect=5)\n",
    "grid.map_dataframe(sns.countplot, 'weekday',hue = \"member_casual\")\n",
    "grid.fig.subplots_adjust(top=0.9)\n",
    "grid.fig.suptitle('How many times used rental servious')\n",
    "grid.set_axis_labels('Weekday', 'Times')\n",
    "grid.add_legend()"
   ]
  },
  {
   "cell_type": "code",
   "execution_count": 246,
   "id": "2a811abc-91fd-41a1-93d3-880e5ca59271",
   "metadata": {},
   "outputs": [
    {
     "data": {
      "text/plain": [
       "<seaborn.axisgrid.FacetGrid at 0x7f95c509af70>"
      ]
     },
     "execution_count": 246,
     "metadata": {},
     "output_type": "execute_result"
    },
    {
     "data": {
      "image/png": "[encoded data removed]",
      "text/plain": [
       "<Figure size 800x316.8 with 2 Axes>"
      ]
     },
     "metadata": {
      "needs_background": "light"
     },
     "output_type": "display_data"
    }
   ],
   "source": [
    "grid = sns.FacetGrid(df, row=\"member_casual\", height=2.2, aspect=5)\n",
    "grid.map(sns.barplot, 'weekday',\"Period\")\n",
    "grid.fig.subplots_adjust(top=0.9)\n",
    "grid.fig.suptitle('How many times used rental servious')\n",
    "grid.set_axis_labels('Weekday', 'Hours')\n",
    "grid.add_legend()"
   ]
  },
  {
   "cell_type": "markdown",
   "id": "2a99e3c3-5ba7-4014-bf4f-4b6316b912af",
   "metadata": {},
   "source": [
    "Member is using more on Monday to friday.\n",
    "\n",
    "Casual using more weekend."
   ]
  },
  {
   "cell_type": "code",
   "execution_count": 245,
   "id": "25670339-08f6-472c-927c-c6c2d3717396",
   "metadata": {},
   "outputs": [
    {
     "data": {
      "text/plain": [
       "<seaborn.axisgrid.FacetGrid at 0x7f95ab460fd0>"
      ]
     },
     "execution_count": 245,
     "metadata": {},
     "output_type": "execute_result"
    },
    {
     "data": {
      "image/png": "[encoded data removed]",
      "text/plain": [
       "<Figure size 834.375x316.8 with 2 Axes>"
      ]
     },
     "metadata": {
      "needs_background": "light"
     },
     "output_type": "display_data"
    }
   ],
   "source": [
    "grid = sns.FacetGrid(data = df, row=\"weekend\", height=2.2, aspect=5)\n",
    "grid.map_dataframe(sns.countplot,'Hour', hue='member_casual', palette='deep')\n",
    "grid.fig.subplots_adjust(top=0.9)\n",
    "grid.fig.suptitle('How many times used rental servious')\n",
    "grid.set_axis_labels('Hours', 'Times')\n",
    "grid.add_legend()"
   ]
  },
  {
   "cell_type": "markdown",
   "id": "e9e54608-08c7-4671-ad5f-a3894ae55307",
   "metadata": {},
   "source": [
    "0:weekday\n",
    "\n",
    "1:weekend\n",
    "\n",
    "6am to 8am and 4pm to 6pm for member: Compution"
   ]
  },
  {
   "cell_type": "markdown",
   "id": "f03c6e7f-baff-496e-a4b2-831719749a3e",
   "metadata": {},
   "source": [
    "<h3>5. Visualize, report, and present the problem solving steps and final solution.\n"
   ]
  },
  {
   "cell_type": "markdown",
   "id": "56e83158-33d5-48d0-a8dc-ac1b05c5cf5c",
   "metadata": {},
   "source": [
    "What I noticed from datasets.\n",
    "\n",
    "1. Members have the bigger rate of the dataset, bigger than casuals.\n",
    "2. The month with the biggest count of data points is July.\n",
    "3. In all months, there are more member than casual.\n",
    "4. Season heavily influences the volume of rides in the month.\n",
    "5. There's a bigger volume of bikers in the afternoon."
   ]
  },
  {
   "cell_type": "markdown",
   "id": "489fec94-3b67-46ab-9d81-47b74f2d59ef",
   "metadata": {},
   "source": [
    "Finding is the difference between members and casuals:\n",
    "\n",
    "1. Casuals are using bigger time than members.\n",
    "2. Member is using all weekday and constant distance.\n",
    "3. Member is using more 6 to 8am and 4pm to 6pm and all seanon is same tendency.\n",
    "4. Casual is using more on summer season and weekend at 12pm to 5pm: tend to use for leisure acticvities.\n",
    "\n",
    "Conclusion:\n",
    "\n",
    "How do annual members and casual riders use Cyclistic bikes differently?\n",
    "1. Member is using for routine activities; comutuion or excersice.\n",
    "2. Casual is using for leisure acticvities; not a fixed activities.\n",
    "3. Both of them are using more on summer season."
   ]
  },
  {
   "cell_type": "markdown",
   "id": "2f752e7b-883c-4191-8458-517299306f5b",
   "metadata": {},
   "source": [
    "Why would casual riders buy Cyclistic annual memberships?\n",
    "1. The person who have routiine activities are tend to hsve annual membership."
   ]
  },
  {
   "cell_type": "markdown",
   "id": "486d0e8f-e890-4989-a3ef-a00a7bd3742a",
   "metadata": {},
   "source": [
    "How can Cyclistic use digital media to influence casual riders to become members?\n",
    "1. Advertize for the befefit for comuption by cycleing; Green and eco or diet.\n",
    "2. To accerarete usage of winter, free rental for winter equipment or give discount."
   ]
  }
 ],
 "metadata": {
  "kernelspec": {
   "display_name": "Python 3 (ipykernel)",
   "language": "python",
   "name": "python3"
  },
  "language_info": {
   "codemirror_mode": {
    "name": "ipython",
    "version": 3
   },
   "file_extension": ".py",
   "mimetype": "text/x-python",
   "name": "python",
   "nbconvert_exporter": "python",
   "pygments_lexer": "ipython3",
   "version": "3.9.7"
  }
 },
 "nbformat": 4,
 "nbformat_minor": 5
}
